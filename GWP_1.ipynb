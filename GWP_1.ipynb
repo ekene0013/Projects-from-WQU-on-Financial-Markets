{
  "cells": [
    {
      "cell_type": "markdown",
      "metadata": {
        "id": "view-in-github",
        "colab_type": "text"
      },
      "source": [
        "<a href=\"https://colab.research.google.com/github/ekene0013/Projects-from-WQU-on-Financial-Markets/blob/main/GWP_1.ipynb\" target=\"_parent\"><img src=\"https://colab.research.google.com/assets/colab-badge.svg\" alt=\"Open In Colab\"/></a>"
      ]
    },
    {
      "cell_type": "markdown",
      "id": "d0bceae2",
      "metadata": {
        "id": "d0bceae2"
      },
      "source": [
        "# Group Work Project 1"
      ]
    },
    {
      "cell_type": "code",
      "execution_count": null,
      "id": "ec0cf6e9",
      "metadata": {
        "id": "ec0cf6e9"
      },
      "outputs": [],
      "source": [
        "#!pip install numpy\n",
        "#!pip install yfinance as yf\n",
        "#!pip install jinja2"
      ]
    },
    {
      "cell_type": "code",
      "execution_count": null,
      "id": "de93daa3",
      "metadata": {
        "id": "de93daa3"
      },
      "outputs": [],
      "source": [
        "#%matplotlib inline\n",
        "import yfinance as yf\n",
        "import numpy as np\n",
        "import pandas as pd\n",
        "from datetime import date, timedelta\n",
        "import matplotlib.pyplot as plt\n",
        "#import seaborn as sns\n",
        "#sns.set(style=\"darkgrid\")"
      ]
    },
    {
      "cell_type": "markdown",
      "id": "325e171d",
      "metadata": {
        "id": "325e171d"
      },
      "source": [
        "## Step 1: Investments\n",
        "\n",
        "1. U.S. Treasury Bills - 5 Years (^FVX)\n",
        "2. Apple Stock (AAPL)\n",
        "3. Dogecoin (DOGE-USD)\n",
        "4. Residential and Multisector ETF (REZ)\n",
        "5. Blockchain ETF(BLOK)"
      ]
    },
    {
      "cell_type": "code",
      "execution_count": null,
      "id": "6e7d5439",
      "metadata": {
        "id": "6e7d5439"
      },
      "outputs": [],
      "source": [
        "def stock_Data(ls,start_date,end_date):\n",
        "    data=pd.DataFrame()\n",
        "    for i in ls:\n",
        "        st=yf.download(i, start=start_date, end=end_date)[\"Adj Close\"]\n",
        "        st=st.reindex(st.index.strftime('%Y/%m/%d')).rename(i)\n",
        "        data=pd.concat([data,st],axis=1)\n",
        "    return data"
      ]
    },
    {
      "cell_type": "code",
      "execution_count": null,
      "id": "1cdad8dd",
      "metadata": {
        "id": "1cdad8dd"
      },
      "outputs": [],
      "source": [
        "# Define the stocks and the time period for which you want to pull data\n",
        "stock = [\"^FVX\",\"AAPL\", \"DOGE-USD\",'REZ',\"BLOK\"]\n",
        "end_date = date.today()\n",
        "start_date = end_date - timedelta(days=365.25*3)"
      ]
    },
    {
      "cell_type": "code",
      "execution_count": null,
      "id": "8db7885d-0c39-4a75-9cac-9b793ac3f8a4",
      "metadata": {
        "id": "8db7885d-0c39-4a75-9cac-9b793ac3f8a4",
        "outputId": "f3bf83fa-9b17-4db2-ae79-5a05c34d3f63"
      },
      "outputs": [
        {
          "name": "stdout",
          "output_type": "stream",
          "text": [
            "[*********************100%***********************]  1 of 1 completed\n",
            "[*********************100%***********************]  1 of 1 completed\n",
            "[*********************100%***********************]  1 of 1 completed\n",
            "[*********************100%***********************]  1 of 1 completed\n",
            "[*********************100%***********************]  1 of 1 completed\n"
          ]
        }
      ],
      "source": [
        "df=stock_Data(stock,start_date,end_date)"
      ]
    },
    {
      "cell_type": "markdown",
      "id": "9cc577e0",
      "metadata": {
        "id": "9cc577e0"
      },
      "source": [
        "Drop the NA values"
      ]
    },
    {
      "cell_type": "code",
      "execution_count": null,
      "id": "4cd053fb",
      "metadata": {
        "id": "4cd053fb",
        "outputId": "222c4559-7566-4f5e-aa5c-01c0d61ddeca"
      },
      "outputs": [
        {
          "data": {
            "text/html": [
              "<div>\n",
              "<style scoped>\n",
              "    .dataframe tbody tr th:only-of-type {\n",
              "        vertical-align: middle;\n",
              "    }\n",
              "\n",
              "    .dataframe tbody tr th {\n",
              "        vertical-align: top;\n",
              "    }\n",
              "\n",
              "    .dataframe thead th {\n",
              "        text-align: right;\n",
              "    }\n",
              "</style>\n",
              "<table border=\"1\" class=\"dataframe\">\n",
              "  <thead>\n",
              "    <tr style=\"text-align: right;\">\n",
              "      <th></th>\n",
              "      <th>^FVX</th>\n",
              "      <th>AAPL</th>\n",
              "      <th>DOGE-USD</th>\n",
              "      <th>REZ</th>\n",
              "      <th>BLOK</th>\n",
              "    </tr>\n",
              "  </thead>\n",
              "  <tbody>\n",
              "    <tr>\n",
              "      <th>2020/02/03</th>\n",
              "      <td>1.343</td>\n",
              "      <td>75.596817</td>\n",
              "      <td>0.002440</td>\n",
              "      <td>71.647301</td>\n",
              "      <td>16.325932</td>\n",
              "    </tr>\n",
              "    <tr>\n",
              "      <th>2020/02/04</th>\n",
              "      <td>1.424</td>\n",
              "      <td>78.092545</td>\n",
              "      <td>0.002503</td>\n",
              "      <td>72.022987</td>\n",
              "      <td>16.584389</td>\n",
              "    </tr>\n",
              "    <tr>\n",
              "      <th>2020/02/05</th>\n",
              "      <td>1.460</td>\n",
              "      <td>78.729340</td>\n",
              "      <td>0.002582</td>\n",
              "      <td>71.738930</td>\n",
              "      <td>16.713619</td>\n",
              "    </tr>\n",
              "    <tr>\n",
              "      <th>2020/02/06</th>\n",
              "      <td>1.460</td>\n",
              "      <td>79.650238</td>\n",
              "      <td>0.002653</td>\n",
              "      <td>72.261238</td>\n",
              "      <td>16.754972</td>\n",
              "    </tr>\n",
              "    <tr>\n",
              "      <th>2020/02/07</th>\n",
              "      <td>1.401</td>\n",
              "      <td>78.567581</td>\n",
              "      <td>0.002769</td>\n",
              "      <td>72.352859</td>\n",
              "      <td>16.679157</td>\n",
              "    </tr>\n",
              "    <tr>\n",
              "      <th>...</th>\n",
              "      <td>...</td>\n",
              "      <td>...</td>\n",
              "      <td>...</td>\n",
              "      <td>...</td>\n",
              "      <td>...</td>\n",
              "    </tr>\n",
              "    <tr>\n",
              "      <th>2023/01/26</th>\n",
              "      <td>3.588</td>\n",
              "      <td>143.960007</td>\n",
              "      <td>0.086373</td>\n",
              "      <td>73.589996</td>\n",
              "      <td>18.709999</td>\n",
              "    </tr>\n",
              "    <tr>\n",
              "      <th>2023/01/27</th>\n",
              "      <td>3.621</td>\n",
              "      <td>145.929993</td>\n",
              "      <td>0.087123</td>\n",
              "      <td>74.720001</td>\n",
              "      <td>18.980000</td>\n",
              "    </tr>\n",
              "    <tr>\n",
              "      <th>2023/01/30</th>\n",
              "      <td>3.683</td>\n",
              "      <td>143.000000</td>\n",
              "      <td>0.088337</td>\n",
              "      <td>73.620003</td>\n",
              "      <td>18.430000</td>\n",
              "    </tr>\n",
              "    <tr>\n",
              "      <th>2023/01/31</th>\n",
              "      <td>3.638</td>\n",
              "      <td>144.289993</td>\n",
              "      <td>0.096167</td>\n",
              "      <td>75.510002</td>\n",
              "      <td>18.889999</td>\n",
              "    </tr>\n",
              "    <tr>\n",
              "      <th>2023/02/01</th>\n",
              "      <td>3.495</td>\n",
              "      <td>145.429993</td>\n",
              "      <td>0.094171</td>\n",
              "      <td>75.699997</td>\n",
              "      <td>19.549999</td>\n",
              "    </tr>\n",
              "  </tbody>\n",
              "</table>\n",
              "<p>756 rows × 5 columns</p>\n",
              "</div>"
            ],
            "text/plain": [
              "             ^FVX        AAPL  DOGE-USD        REZ       BLOK\n",
              "2020/02/03  1.343   75.596817  0.002440  71.647301  16.325932\n",
              "2020/02/04  1.424   78.092545  0.002503  72.022987  16.584389\n",
              "2020/02/05  1.460   78.729340  0.002582  71.738930  16.713619\n",
              "2020/02/06  1.460   79.650238  0.002653  72.261238  16.754972\n",
              "2020/02/07  1.401   78.567581  0.002769  72.352859  16.679157\n",
              "...           ...         ...       ...        ...        ...\n",
              "2023/01/26  3.588  143.960007  0.086373  73.589996  18.709999\n",
              "2023/01/27  3.621  145.929993  0.087123  74.720001  18.980000\n",
              "2023/01/30  3.683  143.000000  0.088337  73.620003  18.430000\n",
              "2023/01/31  3.638  144.289993  0.096167  75.510002  18.889999\n",
              "2023/02/01  3.495  145.429993  0.094171  75.699997  19.549999\n",
              "\n",
              "[756 rows x 5 columns]"
            ]
          },
          "execution_count": 13,
          "metadata": {},
          "output_type": "execute_result"
        }
      ],
      "source": [
        "port=df.dropna(axis = 0, how = 'any')\n",
        "port"
      ]
    },
    {
      "cell_type": "markdown",
      "id": "8c15166c",
      "metadata": {
        "id": "8c15166c"
      },
      "source": [
        "## 3 year Market Closing Price"
      ]
    },
    {
      "cell_type": "code",
      "execution_count": null,
      "id": "3446a183",
      "metadata": {
        "id": "3446a183",
        "outputId": "5eb3c63d-8238-4ceb-d81b-3cd4a3e657c6"
      },
      "outputs": [
        {
          "data": {
            "image/png": "[encoded data removed]",
            "text/plain": [
              "<Figure size 432x288 with 5 Axes>"
            ]
          },
          "metadata": {
            "needs_background": "light"
          },
          "output_type": "display_data"
        }
      ],
      "source": [
        "port.plot(subplots=True)\n",
        "plt.xticks(rotation=20)\n",
        "plt.tight_layout()\n",
        "plt.show()"
      ]
    },
    {
      "cell_type": "markdown",
      "id": "784b41e2",
      "metadata": {
        "id": "784b41e2"
      },
      "source": [
        "## Daily Precentage Returns"
      ]
    },
    {
      "cell_type": "code",
      "execution_count": null,
      "id": "390b9863",
      "metadata": {
        "id": "390b9863",
        "outputId": "f591cf6a-f67f-449e-f2c5-2a0c1d1fa724"
      },
      "outputs": [
        {
          "data": {
            "image/png": "[encoded data removed]",
            "text/plain": [
              "<Figure size 432x288 with 5 Axes>"
            ]
          },
          "metadata": {
            "needs_background": "light"
          },
          "output_type": "display_data"
        }
      ],
      "source": [
        "returns=port.pct_change()\n",
        "returns.plot(subplots=True)\n",
        "plt.xticks(rotation=20)\n",
        "plt.tight_layout()\n",
        "plt.show()"
      ]
    },
    {
      "cell_type": "markdown",
      "id": "3a9a7d8c",
      "metadata": {
        "id": "3a9a7d8c"
      },
      "source": [
        "## Statistics"
      ]
    },
    {
      "cell_type": "code",
      "execution_count": null,
      "id": "3ada6bbc",
      "metadata": {
        "id": "3ada6bbc",
        "outputId": "d3680a72-1fac-402f-b9cb-2287e218969c"
      },
      "outputs": [
        {
          "data": {
            "text/html": [
              "<div>\n",
              "<style scoped>\n",
              "    .dataframe tbody tr th:only-of-type {\n",
              "        vertical-align: middle;\n",
              "    }\n",
              "\n",
              "    .dataframe tbody tr th {\n",
              "        vertical-align: top;\n",
              "    }\n",
              "\n",
              "    .dataframe thead th {\n",
              "        text-align: right;\n",
              "    }\n",
              "</style>\n",
              "<table border=\"1\" class=\"dataframe\">\n",
              "  <thead>\n",
              "    <tr style=\"text-align: right;\">\n",
              "      <th></th>\n",
              "      <th>Mean Daily Return</th>\n",
              "      <th>Variance</th>\n",
              "      <th>Standard Deviation</th>\n",
              "      <th>Skewness</th>\n",
              "      <th>Kurtosis</th>\n",
              "    </tr>\n",
              "  </thead>\n",
              "  <tbody>\n",
              "    <tr>\n",
              "      <th>^FVX</th>\n",
              "      <td>0.003039</td>\n",
              "      <td>0.003612</td>\n",
              "      <td>0.060102</td>\n",
              "      <td>0.851724</td>\n",
              "      <td>9.060492</td>\n",
              "    </tr>\n",
              "    <tr>\n",
              "      <th>AAPL</th>\n",
              "      <td>0.001137</td>\n",
              "      <td>0.000541</td>\n",
              "      <td>0.023251</td>\n",
              "      <td>0.089819</td>\n",
              "      <td>4.048920</td>\n",
              "    </tr>\n",
              "    <tr>\n",
              "      <th>DOGE-USD</th>\n",
              "      <td>0.011849</td>\n",
              "      <td>0.026859</td>\n",
              "      <td>0.163888</td>\n",
              "      <td>14.327572</td>\n",
              "      <td>294.635042</td>\n",
              "    </tr>\n",
              "    <tr>\n",
              "      <th>REZ</th>\n",
              "      <td>0.000264</td>\n",
              "      <td>0.000376</td>\n",
              "      <td>0.019391</td>\n",
              "      <td>-1.203495</td>\n",
              "      <td>14.309010</td>\n",
              "    </tr>\n",
              "    <tr>\n",
              "      <th>BLOK</th>\n",
              "      <td>0.000675</td>\n",
              "      <td>0.000870</td>\n",
              "      <td>0.029501</td>\n",
              "      <td>-0.146873</td>\n",
              "      <td>1.270066</td>\n",
              "    </tr>\n",
              "  </tbody>\n",
              "</table>\n",
              "</div>"
            ],
            "text/plain": [
              "          Mean Daily Return  Variance  Standard Deviation   Skewness  \\\n",
              "^FVX               0.003039  0.003612            0.060102   0.851724   \n",
              "AAPL               0.001137  0.000541            0.023251   0.089819   \n",
              "DOGE-USD           0.011849  0.026859            0.163888  14.327572   \n",
              "REZ                0.000264  0.000376            0.019391  -1.203495   \n",
              "BLOK               0.000675  0.000870            0.029501  -0.146873   \n",
              "\n",
              "            Kurtosis  \n",
              "^FVX        9.060492  \n",
              "AAPL        4.048920  \n",
              "DOGE-USD  294.635042  \n",
              "REZ        14.309010  \n",
              "BLOK        1.270066  "
            ]
          },
          "execution_count": 16,
          "metadata": {},
          "output_type": "execute_result"
        }
      ],
      "source": [
        "ret=returns.mean(axis=0).rename('Mean Daily Return')\n",
        "var=returns.var(axis=0).rename('Variance')\n",
        "std=returns.std(axis=0).rename('Standard Deviation')\n",
        "skew = returns.skew(axis=0).rename('Skewness')\n",
        "kurt = returns.kurt(axis=0).rename ('Kurtosis')\n",
        "stats = pd.concat([ret,var,std,skew,kurt],axis=1)\n",
        "stats"
      ]
    },
    {
      "cell_type": "markdown",
      "id": "dbb0cd0e",
      "metadata": {
        "id": "dbb0cd0e"
      },
      "source": [
        "### Covariance"
      ]
    },
    {
      "cell_type": "code",
      "execution_count": null,
      "id": "58cc437a",
      "metadata": {
        "scrolled": true,
        "id": "58cc437a",
        "outputId": "9cae779a-1d7e-4761-a451-4538df6c6b54"
      },
      "outputs": [
        {
          "data": {
            "text/html": [
              "<div>\n",
              "<style scoped>\n",
              "    .dataframe tbody tr th:only-of-type {\n",
              "        vertical-align: middle;\n",
              "    }\n",
              "\n",
              "    .dataframe tbody tr th {\n",
              "        vertical-align: top;\n",
              "    }\n",
              "\n",
              "    .dataframe thead th {\n",
              "        text-align: right;\n",
              "    }\n",
              "</style>\n",
              "<table border=\"1\" class=\"dataframe\">\n",
              "  <thead>\n",
              "    <tr style=\"text-align: right;\">\n",
              "      <th></th>\n",
              "      <th>^FVX</th>\n",
              "      <th>AAPL</th>\n",
              "      <th>DOGE-USD</th>\n",
              "      <th>REZ</th>\n",
              "      <th>BLOK</th>\n",
              "    </tr>\n",
              "  </thead>\n",
              "  <tbody>\n",
              "    <tr>\n",
              "      <th>^FVX</th>\n",
              "      <td>0.003612</td>\n",
              "      <td>0.000183</td>\n",
              "      <td>0.000097</td>\n",
              "      <td>0.000227</td>\n",
              "      <td>0.000172</td>\n",
              "    </tr>\n",
              "    <tr>\n",
              "      <th>AAPL</th>\n",
              "      <td>0.000183</td>\n",
              "      <td>0.000541</td>\n",
              "      <td>0.000163</td>\n",
              "      <td>0.000239</td>\n",
              "      <td>0.000396</td>\n",
              "    </tr>\n",
              "    <tr>\n",
              "      <th>DOGE-USD</th>\n",
              "      <td>0.000097</td>\n",
              "      <td>0.000163</td>\n",
              "      <td>0.026859</td>\n",
              "      <td>0.000263</td>\n",
              "      <td>0.001071</td>\n",
              "    </tr>\n",
              "    <tr>\n",
              "      <th>REZ</th>\n",
              "      <td>0.000227</td>\n",
              "      <td>0.000239</td>\n",
              "      <td>0.000263</td>\n",
              "      <td>0.000376</td>\n",
              "      <td>0.000230</td>\n",
              "    </tr>\n",
              "    <tr>\n",
              "      <th>BLOK</th>\n",
              "      <td>0.000172</td>\n",
              "      <td>0.000396</td>\n",
              "      <td>0.001071</td>\n",
              "      <td>0.000230</td>\n",
              "      <td>0.000870</td>\n",
              "    </tr>\n",
              "  </tbody>\n",
              "</table>\n",
              "</div>"
            ],
            "text/plain": [
              "              ^FVX      AAPL  DOGE-USD       REZ      BLOK\n",
              "^FVX      0.003612  0.000183  0.000097  0.000227  0.000172\n",
              "AAPL      0.000183  0.000541  0.000163  0.000239  0.000396\n",
              "DOGE-USD  0.000097  0.000163  0.026859  0.000263  0.001071\n",
              "REZ       0.000227  0.000239  0.000263  0.000376  0.000230\n",
              "BLOK      0.000172  0.000396  0.001071  0.000230  0.000870"
            ]
          },
          "execution_count": 17,
          "metadata": {},
          "output_type": "execute_result"
        }
      ],
      "source": [
        "cov=returns.cov()\n",
        "cov"
      ]
    },
    {
      "cell_type": "markdown",
      "id": "d7d9381b",
      "metadata": {
        "id": "d7d9381b"
      },
      "source": [
        "### Pearson Correlation"
      ]
    },
    {
      "cell_type": "code",
      "execution_count": null,
      "id": "e3d8109d",
      "metadata": {
        "id": "e3d8109d",
        "outputId": "17f3c8fc-c88e-4826-c6da-0d9df346ace0"
      },
      "outputs": [
        {
          "data": {
            "text/html": [
              "<div>\n",
              "<style scoped>\n",
              "    .dataframe tbody tr th:only-of-type {\n",
              "        vertical-align: middle;\n",
              "    }\n",
              "\n",
              "    .dataframe tbody tr th {\n",
              "        vertical-align: top;\n",
              "    }\n",
              "\n",
              "    .dataframe thead th {\n",
              "        text-align: right;\n",
              "    }\n",
              "</style>\n",
              "<table border=\"1\" class=\"dataframe\">\n",
              "  <thead>\n",
              "    <tr style=\"text-align: right;\">\n",
              "      <th></th>\n",
              "      <th>^FVX</th>\n",
              "      <th>AAPL</th>\n",
              "      <th>DOGE-USD</th>\n",
              "      <th>REZ</th>\n",
              "      <th>BLOK</th>\n",
              "    </tr>\n",
              "  </thead>\n",
              "  <tbody>\n",
              "    <tr>\n",
              "      <th>^FVX</th>\n",
              "      <td>1.000000</td>\n",
              "      <td>0.130747</td>\n",
              "      <td>0.009864</td>\n",
              "      <td>0.194573</td>\n",
              "      <td>0.096775</td>\n",
              "    </tr>\n",
              "    <tr>\n",
              "      <th>AAPL</th>\n",
              "      <td>0.130747</td>\n",
              "      <td>1.000000</td>\n",
              "      <td>0.042713</td>\n",
              "      <td>0.530059</td>\n",
              "      <td>0.577295</td>\n",
              "    </tr>\n",
              "    <tr>\n",
              "      <th>DOGE-USD</th>\n",
              "      <td>0.009864</td>\n",
              "      <td>0.042713</td>\n",
              "      <td>1.000000</td>\n",
              "      <td>0.082604</td>\n",
              "      <td>0.221496</td>\n",
              "    </tr>\n",
              "    <tr>\n",
              "      <th>REZ</th>\n",
              "      <td>0.194573</td>\n",
              "      <td>0.530059</td>\n",
              "      <td>0.082604</td>\n",
              "      <td>1.000000</td>\n",
              "      <td>0.402483</td>\n",
              "    </tr>\n",
              "    <tr>\n",
              "      <th>BLOK</th>\n",
              "      <td>0.096775</td>\n",
              "      <td>0.577295</td>\n",
              "      <td>0.221496</td>\n",
              "      <td>0.402483</td>\n",
              "      <td>1.000000</td>\n",
              "    </tr>\n",
              "  </tbody>\n",
              "</table>\n",
              "</div>"
            ],
            "text/plain": [
              "              ^FVX      AAPL  DOGE-USD       REZ      BLOK\n",
              "^FVX      1.000000  0.130747  0.009864  0.194573  0.096775\n",
              "AAPL      0.130747  1.000000  0.042713  0.530059  0.577295\n",
              "DOGE-USD  0.009864  0.042713  1.000000  0.082604  0.221496\n",
              "REZ       0.194573  0.530059  0.082604  1.000000  0.402483\n",
              "BLOK      0.096775  0.577295  0.221496  0.402483  1.000000"
            ]
          },
          "execution_count": 18,
          "metadata": {},
          "output_type": "execute_result"
        }
      ],
      "source": [
        "returns.corr(method='pearson')"
      ]
    },
    {
      "cell_type": "markdown",
      "id": "7eb747b6",
      "metadata": {
        "id": "7eb747b6"
      },
      "source": [
        "### Spearman Correlation"
      ]
    },
    {
      "cell_type": "code",
      "execution_count": null,
      "id": "26d7c769-c0dc-47e8-bc41-278daa057a8b",
      "metadata": {
        "id": "26d7c769-c0dc-47e8-bc41-278daa057a8b",
        "outputId": "1cf72c1f-b5d0-4b93-addd-c03ce15a098a"
      },
      "outputs": [
        {
          "data": {
            "text/html": [
              "<div>\n",
              "<style scoped>\n",
              "    .dataframe tbody tr th:only-of-type {\n",
              "        vertical-align: middle;\n",
              "    }\n",
              "\n",
              "    .dataframe tbody tr th {\n",
              "        vertical-align: top;\n",
              "    }\n",
              "\n",
              "    .dataframe thead th {\n",
              "        text-align: right;\n",
              "    }\n",
              "</style>\n",
              "<table border=\"1\" class=\"dataframe\">\n",
              "  <thead>\n",
              "    <tr style=\"text-align: right;\">\n",
              "      <th></th>\n",
              "      <th>^FVX</th>\n",
              "      <th>AAPL</th>\n",
              "      <th>DOGE-USD</th>\n",
              "      <th>REZ</th>\n",
              "      <th>BLOK</th>\n",
              "    </tr>\n",
              "  </thead>\n",
              "  <tbody>\n",
              "    <tr>\n",
              "      <th>^FVX</th>\n",
              "      <td>1.000000</td>\n",
              "      <td>-0.014631</td>\n",
              "      <td>-0.023092</td>\n",
              "      <td>-0.009362</td>\n",
              "      <td>0.068778</td>\n",
              "    </tr>\n",
              "    <tr>\n",
              "      <th>AAPL</th>\n",
              "      <td>-0.014631</td>\n",
              "      <td>1.000000</td>\n",
              "      <td>0.240162</td>\n",
              "      <td>0.420158</td>\n",
              "      <td>0.578098</td>\n",
              "    </tr>\n",
              "    <tr>\n",
              "      <th>DOGE-USD</th>\n",
              "      <td>-0.023092</td>\n",
              "      <td>0.240162</td>\n",
              "      <td>1.000000</td>\n",
              "      <td>0.204550</td>\n",
              "      <td>0.466821</td>\n",
              "    </tr>\n",
              "    <tr>\n",
              "      <th>REZ</th>\n",
              "      <td>-0.009362</td>\n",
              "      <td>0.420158</td>\n",
              "      <td>0.204550</td>\n",
              "      <td>1.000000</td>\n",
              "      <td>0.357960</td>\n",
              "    </tr>\n",
              "    <tr>\n",
              "      <th>BLOK</th>\n",
              "      <td>0.068778</td>\n",
              "      <td>0.578098</td>\n",
              "      <td>0.466821</td>\n",
              "      <td>0.357960</td>\n",
              "      <td>1.000000</td>\n",
              "    </tr>\n",
              "  </tbody>\n",
              "</table>\n",
              "</div>"
            ],
            "text/plain": [
              "              ^FVX      AAPL  DOGE-USD       REZ      BLOK\n",
              "^FVX      1.000000 -0.014631 -0.023092 -0.009362  0.068778\n",
              "AAPL     -0.014631  1.000000  0.240162  0.420158  0.578098\n",
              "DOGE-USD -0.023092  0.240162  1.000000  0.204550  0.466821\n",
              "REZ      -0.009362  0.420158  0.204550  1.000000  0.357960\n",
              "BLOK      0.068778  0.578098  0.466821  0.357960  1.000000"
            ]
          },
          "execution_count": 19,
          "metadata": {},
          "output_type": "execute_result"
        }
      ],
      "source": [
        "returns.corr(method='spearman')"
      ]
    },
    {
      "cell_type": "markdown",
      "id": "a2c95cde",
      "metadata": {
        "id": "a2c95cde"
      },
      "source": [
        "## Portfolio B"
      ]
    },
    {
      "cell_type": "markdown",
      "id": "81530a2a",
      "metadata": {
        "id": "81530a2a"
      },
      "source": [
        "Portfolio B Weights\n",
        "$$ \\text{Weights} = [0,0,0.4,0.2,0.4]$$"
      ]
    },
    {
      "cell_type": "code",
      "execution_count": null,
      "id": "f437c77f-608b-451e-abb9-523889b7455f",
      "metadata": {
        "id": "f437c77f-608b-451e-abb9-523889b7455f",
        "outputId": "f42e01ed-344a-4345-8e5c-3f4f165c3c2e"
      },
      "outputs": [
        {
          "data": {
            "text/plain": [
              "array([0. , 0. , 0.4, 0.2, 0.4])"
            ]
          },
          "execution_count": 20,
          "metadata": {},
          "output_type": "execute_result"
        }
      ],
      "source": [
        "weight=np.array([0,0,0.4,0.2,0.4])\n",
        "weight"
      ]
    },
    {
      "cell_type": "markdown",
      "id": "49af4574",
      "metadata": {
        "id": "49af4574"
      },
      "source": [
        "Portfolio B Returns"
      ]
    },
    {
      "cell_type": "code",
      "execution_count": null,
      "id": "b3d902ce-8b14-4337-825b-d7eec8c4918a",
      "metadata": {
        "id": "b3d902ce-8b14-4337-825b-d7eec8c4918a",
        "outputId": "6b1ba4cd-26bc-4c48-cf0d-27a6498b3d6b"
      },
      "outputs": [
        {
          "data": {
            "text/plain": [
              "0.005062280146110981"
            ]
          },
          "execution_count": 21,
          "metadata": {},
          "output_type": "execute_result"
        }
      ],
      "source": [
        "port_return = np.matmul(weight,ret)\n",
        "port_return"
      ]
    },
    {
      "cell_type": "markdown",
      "id": "c1dfcf84",
      "metadata": {
        "id": "c1dfcf84"
      },
      "source": [
        "Portfolio B Variance"
      ]
    },
    {
      "cell_type": "code",
      "execution_count": null,
      "id": "33cc0cf4-b1c1-49ea-939b-594b64942fbe",
      "metadata": {
        "id": "33cc0cf4-b1c1-49ea-939b-594b64942fbe",
        "outputId": "73b04432-ead0-402a-8952-a1881e994a29"
      },
      "outputs": [
        {
          "data": {
            "text/plain": [
              "0.004873273177341687"
            ]
          },
          "execution_count": 22,
          "metadata": {},
          "output_type": "execute_result"
        }
      ],
      "source": [
        "port_var= np.matmul(np.transpose(weight),np.matmul(cov,weight))\n",
        "port_var"
      ]
    },
    {
      "cell_type": "markdown",
      "id": "915cc8a3-b947-4edf-9a98-fe84bb689ade",
      "metadata": {
        "id": "915cc8a3-b947-4edf-9a98-fe84bb689ade"
      },
      "source": [
        "Portfolio Coefficient of variation"
      ]
    },
    {
      "cell_type": "code",
      "execution_count": null,
      "id": "406294a5-9824-44cf-b533-352117f8a649",
      "metadata": {
        "id": "406294a5-9824-44cf-b533-352117f8a649",
        "outputId": "0d167456-6d5d-4bb5-a089-cf0a7d343609"
      },
      "outputs": [
        {
          "data": {
            "text/plain": [
              "13.789997999873949"
            ]
          },
          "execution_count": 23,
          "metadata": {},
          "output_type": "execute_result"
        }
      ],
      "source": [
        "(port_var**.5)/port_return"
      ]
    },
    {
      "cell_type": "markdown",
      "id": "beab7463",
      "metadata": {
        "id": "beab7463"
      },
      "source": [
        "## Step 2: See Answers to Questions\n",
        "\n",
        "**1. Shorting**\n",
        "\n",
        "a. Yes\n",
        "    \n",
        "b. The mechanics would include borrowing an investment from another investor, sell the borrowed investment, wait for the price to drop and then buy back the same investment. Afterwards, I return the investment to the investor that I borrowed it from. The rationale for this mechanics would be to make some profit from the difference between the buy-back price and the price that I sold the investment for.  \n",
        "    \n",
        "**2. Credit Risk**\n",
        "\n",
        "a. No\n",
        "    \n",
        "b. I am not shorting any position and most of my investments are in ETFs and cryptocurrency. I would have been exposed to credit risk if I lent any of my assets to another investors in which case I will be worried about the investor's credit rating, industry sector and history of default rates.  \n",
        "    \n",
        "**3. Portfolio Statistics**\n",
        "\n",
        "a. 0.005062280146110981\n",
        "    \n",
        "b. 0.004873273177341687\n",
        "    \n",
        "**4. Diversification**\n",
        "\n",
        "a. Diversification between two assets (in my case, ETFs and cryptocurrency) refers to the process of allocating investments across the assets in the portfolio so that they are not perfectly correlated with each other. This way, if one asset performs poorly, the other asset in the portfolio may still perform well, minimizing the the impact of the poor performance on the overall portfolio.   \n",
        "    \n",
        "b. Yes, the portfolio is diversified because my investment is spread across two assets with correlations of 0.08 (between the cryptocurrency and Equity ETF) and 0.22 (between the cryptocurrency and crypto ETF).\n",
        "    \n",
        "**5. Comparing Portfolios**\n",
        "\n",
        "a. Portfolio A has a higher variance compared to my  portfolio. My portfolio in turn has a higher variance compared to portfolio C. The higher the variance, the higher the risks. Portfolio A and B has higher number of crypotcurrencies, which are known to be highly volatile compared to other traditional financial securities in portfolio C.\n",
        "    \n",
        "b. Portfolio A has a higher reyrun than my portfolio, while my portfolio has a higher return compared to portfolio C. This means that despite the fact that it has a higher risk, portfolio A yields returns than my portfolio.\n",
        "    \n",
        "**6. Assessing Risk**\n",
        "\n",
        "a. My portfolio is made up of crypocurrencies and ETFs, and therefore affected by the followings: (i) regulatory changes can affect the acceptability of cryptocurrencies or can impact demand of equity ETFs (ii) interest rate changes can also affect cryptocurrencies as higher interest rates can make investment in traditional financial assets more attractive. The same way, changes in interest rates can impact the demand for equity ETFs, as higher interest rates can make investments in bonds and other fixed income securities more attractive (iii) market volatility can affect cryptocurrencies and ETF because investors may become more risk-averse and sell off assets (cryptocurrencies and ETFs) during periods of market stress.\n",
        "\n",
        "b. Yes, all the scenarios listed in (a) above can affect all the investments in my portfolio. These events include regulatory changes, interest rate changes, and market volatility.\n",
        "    \n",
        "**7. Performance**\n",
        "\n",
        "a. The investments in cryptocurrencies and ETFs can benefit from the followings: (i) period of economic growth and booms can lead to higher demands for crypotcurrencies and ETFS (ii) institutional investments in cryptocurrencies and ETFs can boost these assets because it incentives institutional investors to inject large amounts of capital into the market and drive up their demand.\n",
        "    \n",
        "b. As listed in the  scenarios listed above, the portfolio can be helped by similar events which include period of economic growth and booms, as well as institutional investments. These events can help both members of the portfolio.\n",
        "    \n",
        "**8. Disrupters**\n",
        "\n",
        "a. (i) The central bank can affect my portfolio (made up of cryptocurrencies and ETFs) through its impact on monetary policy decisions, such as changes in interest rates. For example, if the central bank raises interest rates, it may lead to a higher value in token money and decrease in demand for cryptocurrencies and ETFs as investment may shift their capital to higher-yielding assets; (ii) The central bank can affect my portfolio through their regulatory function by supporting or opposing the development of cryptocurrencies and ETFs. For example, if the central bank issues guidelines to make investments in cryptocurrencies and ETFs difficult, it may affect the demand for these assets; (iii) The central bank can influence public perception of cryptocurrencies and ETFs through their statements and actions. For example, if the central bank endorses investments in cryptocurrencies and ETF through their communiques or moral suasion on commerical banks, it may increase public confidence in these assets and boost the demand for them.\n",
        "    \n",
        "b. (i) Investment banks can affect the portfolio through its impact on trading and as market makers for cryptocurrencies and ETFs, through the provision of liquidity and helping to facilitate trades. The impact of investment banks can, by extension, influence the supply and demand of cryptocurrencies and ETFs; (ii) Investment banks can influence the portfolio through advisory services to companies looking to launch cryptocurrencies or ETFs by offering guidance on regulatory compliance; (iii) Investment banks can affect the portfolio by offering investment management services for cryptocurrencies and ETFs by helping clients buy and sell assets as part of their portfolios.\n",
        "    \n",
        "**9. Re-assessing Risk**\n",
        "\n",
        "a. No. The skewness between the cryptocurrency (Dogecoin) is much higher than that of the ETFs (Residential & Multisector ETF as well as the Blockchain ETF). Therefore, the cryptocurrency is much more heavily skewed to the right than the ETFs.  \n",
        "    \n",
        "b. Yes. We see some differences between the types of correlation. For example, the pearson correlation coefficient between cryptocurrency and Residential & Multisector ETF is 0.08 while the Spearman rank correlation coefficient is 0.20."
      ]
    },
    {
      "cell_type": "markdown",
      "id": "0b370016",
      "metadata": {
        "id": "0b370016"
      },
      "source": [
        "## Portfolio C"
      ]
    },
    {
      "cell_type": "markdown",
      "id": "a1523e71",
      "metadata": {
        "id": "a1523e71"
      },
      "source": [
        "Portfolio Weights\n",
        "$$ \\text{Weights} = [0.5,0,0.8,-0.2,-0.1]$$"
      ]
    },
    {
      "cell_type": "code",
      "execution_count": null,
      "id": "266ba947",
      "metadata": {
        "id": "266ba947",
        "outputId": "d6833e41-3f13-4a93-ad91-6f5c97958912"
      },
      "outputs": [
        {
          "data": {
            "text/plain": [
              "array([ 0.5,  0. ,  0.8, -0.2, -0.1])"
            ]
          },
          "execution_count": 24,
          "metadata": {},
          "output_type": "execute_result"
        }
      ],
      "source": [
        "weight=np.array([0.5,0,0.8,-0.2,-0.1])\n",
        "weight"
      ]
    },
    {
      "cell_type": "markdown",
      "id": "9baefadc",
      "metadata": {
        "id": "9baefadc"
      },
      "source": [
        "Portfolio C Returns"
      ]
    },
    {
      "cell_type": "code",
      "execution_count": null,
      "id": "28bb92be",
      "metadata": {
        "id": "28bb92be",
        "outputId": "01b72b29-3f3d-43a4-9c4c-2215fbca51fa"
      },
      "outputs": [
        {
          "data": {
            "text/plain": [
              "0.010877992816946614"
            ]
          },
          "execution_count": 25,
          "metadata": {},
          "output_type": "execute_result"
        }
      ],
      "source": [
        "port_return = np.matmul(weight,ret)\n",
        "port_return"
      ]
    },
    {
      "cell_type": "markdown",
      "id": "00b4d942",
      "metadata": {
        "id": "00b4d942"
      },
      "source": [
        "Portfolio C Variance"
      ]
    },
    {
      "cell_type": "code",
      "execution_count": null,
      "id": "f48b49bf",
      "metadata": {
        "id": "f48b49bf",
        "outputId": "47983dc0-9d9f-45dc-93d7-031ac397697e"
      },
      "outputs": [
        {
          "data": {
            "text/plain": [
              "0.017885742825756622"
            ]
          },
          "execution_count": 26,
          "metadata": {},
          "output_type": "execute_result"
        }
      ],
      "source": [
        "port_var= np.matmul(np.transpose(weight),np.matmul(cov,weight))\n",
        "port_var"
      ]
    },
    {
      "cell_type": "markdown",
      "id": "84813439-2a5e-4ddd-9073-fcec4b09e032",
      "metadata": {
        "id": "84813439-2a5e-4ddd-9073-fcec4b09e032"
      },
      "source": [
        "Portfolio Coefficient of Variation"
      ]
    },
    {
      "cell_type": "code",
      "execution_count": null,
      "id": "0cbde6f8-2640-489b-8066-a8d09c36bffc",
      "metadata": {
        "id": "0cbde6f8-2640-489b-8066-a8d09c36bffc",
        "outputId": "c32d3525-333c-4d52-ef24-057af1ddb696"
      },
      "outputs": [
        {
          "data": {
            "text/plain": [
              "12.294325954940595"
            ]
          },
          "execution_count": 27,
          "metadata": {},
          "output_type": "execute_result"
        }
      ],
      "source": [
        "(port_var**.5)/port_return"
      ]
    },
    {
      "cell_type": "markdown",
      "id": "ea1021c5-a8d2-4c91-9d0d-443beb32135e",
      "metadata": {
        "id": "ea1021c5-a8d2-4c91-9d0d-443beb32135e"
      },
      "source": [
        "## Step 2: See Answers to Questions\n",
        "\n",
        "**1. Shorting**\n",
        "\n",
        "a. Yes\n",
        "    \n",
        "b. The idea here is to borrow a security from another investor, and sell it so as to buy it back after the price of that security drops. The motivation for this is to make some gain from the selling and buy-back margin.  \n",
        "    \n",
        "**2. Credit Risk**\n",
        "\n",
        "a. Yes. Since I am shorting my position, I would be exposed to creadit risk partcularly if I do the shorting via the over-the-counter (OTC) market.\n",
        "    \n",
        "b. Credit risk refers to the risk of losing an investment when a borrower's defaults by failing to repay the worth of an investment.\n",
        "    \n",
        "**3. Portfolio Statistics**\n",
        "\n",
        " a. 0.01088442110361956\n",
        "    \n",
        "b. 0.017926984537564562\n",
        "    \n",
        "**4. Diversification**\n",
        "\n",
        " a. The two assets in question here are treasury bills (TBs) and cryptocurrency (Dogecoin). Diversification here means that I allocated my investments between a very stable security (TBs) and a volatile security (Dogecoin) which are not perfectly correlated with each other. I also short my positions on the ETFs. Tne rationale behind diversifying my portfolio is to minimize the impact of the poor performance of one asset on the overall portfolio.  \n",
        "    \n",
        "b. Yes, my portfolio is well-diversified. For example, the pearson correlation beween the TBs and Dogecoin is 0.0098 suggesting that they are uncorrelated.\n",
        "    \n",
        "**5. Comparing Portfolios**\n",
        "\n",
        "a. Apparently, portfolios A and B have higher portfolio returns than Portfolio C. However, the portfolio variances of portfolios A and B are higher than that of Portfolio C. Therefore, assessing my portfolio in terms of other indicates that it bears less risk due to relatively smaller variances, but has lower returns. This simply confirms the long held maxim in the world of finance which say, \"the higher the risk, the higher the returns.\"\n",
        "    \n",
        "b. Following the discussion in the previous question, we already established that Portfolios A and B have higher portfolio returns than Portfolio C.\n",
        "    \n",
        "**6. Assessing Risk**\n",
        "\n",
        "a. My portfolio is largely made up of treasury bills (TBs) and cryptocurrencies, and are therefore affected by the following economic conditions: (i) interest rates changes can make TBs more attractive and reduce the demand for cryptocurrencies; (ii) inflationary pressure can increase the demand cryptocurrencies as a hedge against currency depreciation and TBs are backed by the federal government and thereby, less senstive to inflation; (iii) economic growth and boom can increase both the demand for TBs and cryptocurencies.\n",
        "\n",
        "b. (i) Geopolitical events can hurt both members of my portfolio. For example, tensions between countries can increases the demand for safe-haven assets such as TBs and cryptocurrencies; (ii) Technological shocks can affect the demand for cryptocurrencies but may not impact on TBs\n",
        "    \n",
        "**7. Performance**\n",
        "\n",
        "a. (i) Economic prosperity or boom, as opposed to recessions, can greatly improve my securities; (ii) Hyperinfaltion can improve the demand for each security as cryptocurrencies can serve as a hedge against depreciation while TBs are less sensitive to inflation.\n",
        "    \n",
        "b. Events similar to the ones highlighted above would help members of my portfolio. For example, huge exchange rate depreciation, which also goes hand-in-hand with inflation, will help cryptocurrencies and TBs.\n",
        "    \n",
        "**8. Disrupters**\n",
        "\n",
        "a. The central bank can influence the portfolio through monetary policy instruments such as (i) interest rates e.g. rasing the interest rates makes TBs attractive and decreases the demand for cryptocurrencies; (ii) money supply because increase in money supply can cause liquidity to increase in the market leading to more investments in TBs and cryptocurrencies.\n",
        "    \n",
        "b. Investment banks can influence the portfolio by (i) providing professional advisory services for TBs and cryptocurrencies leading to informed decisions by their clients regarding both securities (ii) offering investment management services for securities in my portfolio in order to increase or decrease the demand for securities in my portfolio\n",
        "\n",
        "**9. Re-assessing Risk**\n",
        "\n",
        "a. No. The skewness between TBs is higher than that of cryptocurrency.\n",
        "    \n",
        "b. Yes. The pearson correlation and spearman rank correlation coefficients are different for both TBs and cryptocurrency. In fact, pearson correlation is postive for TBs and cryptocurrency and on the other hand, negative when calculuted using the spearman rank.\n",
        "    "
      ]
    },
    {
      "cell_type": "code",
      "execution_count": null,
      "id": "35b33d13-b533-41fe-afe5-46467e290049",
      "metadata": {
        "id": "35b33d13-b533-41fe-afe5-46467e290049"
      },
      "outputs": [],
      "source": []
    }
  ],
  "metadata": {
    "kernelspec": {
      "display_name": "Python 3",
      "language": "python",
      "name": "python3"
    },
    "language_info": {
      "codemirror_mode": {
        "name": "ipython",
        "version": 3
      },
      "file_extension": ".py",
      "mimetype": "text/x-python",
      "name": "python",
      "nbconvert_exporter": "python",
      "pygments_lexer": "ipython3",
      "version": "3.8.8"
    },
    "colab": {
      "provenance": [],
      "include_colab_link": true
    }
  },
  "nbformat": 4,
  "nbformat_minor": 5
}